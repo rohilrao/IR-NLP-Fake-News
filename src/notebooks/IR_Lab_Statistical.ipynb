{
  "nbformat": 4,
  "nbformat_minor": 0,
  "metadata": {
    "colab": {
      "name": "IR_Lab_Statistical.ipynb",
      "provenance": [],
      "toc_visible": true
    },
    "kernelspec": {
      "name": "python3",
      "display_name": "Python 3"
    },
    "language_info": {
      "name": "python"
    }
  },
  "cells": [
    {
      "cell_type": "code",
      "metadata": {
        "id": "264a6GEv8OMB"
      },
      "source": [
        "pip install lime"
      ],
      "execution_count": null,
      "outputs": []
    },
    {
      "cell_type": "code",
      "metadata": {
        "colab": {
          "base_uri": "https://localhost:8080/"
        },
        "id": "Z3Keg_688V8-",
        "outputId": "02a6b1d1-6ece-4397-e9cd-c1b9847b1b7a"
      },
      "source": [
        "from IPython.display import Markdown, display\n",
        "import pandas as pd\n",
        "import numpy as np\n",
        "import nltk \n",
        "import matplotlib.pyplot as plt\n",
        "from sklearn.feature_extraction.text import TfidfVectorizer\n",
        "from sklearn.model_selection import train_test_split\n",
        "from sklearn import metrics\n",
        "from sklearn.metrics import plot_roc_curve\n",
        "from sklearn.metrics import auc\n",
        "from sklearn.ensemble import RandomForestClassifier, AdaBoostClassifier\n",
        "from sklearn.tree import DecisionTreeClassifier\n",
        "from sklearn.metrics import classification_report\n",
        "from datetime import datetime\n",
        "from sklearn.feature_extraction.text import CountVectorizer\n",
        "from pandas import DataFrame\n",
        "from collections import OrderedDict\n",
        "from sklearn.model_selection import StratifiedKFold \n",
        "\n",
        "import seaborn as sns\n",
        "from collections import Counter\n",
        "\n",
        "from tqdm._tqdm_notebook import tqdm_notebook\n",
        "tqdm_notebook.pandas()\n",
        "\n",
        "import lime\n",
        "import lime.lime_tabular\n",
        "from lime.lime_text import LimeTextExplainer"
      ],
      "execution_count": null,
      "outputs": [
        {
          "output_type": "stream",
          "text": [
            "/usr/local/lib/python3.7/dist-packages/ipykernel_launcher.py:23: TqdmDeprecationWarning: This function will be removed in tqdm==5.0.0\n",
            "Please use `tqdm.notebook.*` instead of `tqdm._tqdm_notebook.*`\n",
            "/usr/local/lib/python3.7/dist-packages/tqdm/std.py:658: FutureWarning: The Panel class is removed from pandas. Accessing it from the top-level namespace will also be removed in the next version\n",
            "  from pandas import Panel\n"
          ],
          "name": "stderr"
        }
      ]
    },
    {
      "cell_type": "markdown",
      "metadata": {
        "id": "lTepyhYG-0Dk"
      },
      "source": [
        "https://github.com/shresthaanu/ECIR21TextualCharacteristicsOfFakeNews/blob/main/Code/step4_statistical_test.ipynb"
      ]
    },
    {
      "cell_type": "markdown",
      "metadata": {
        "id": "6OZVGUd1_h3b"
      },
      "source": [
        "# Read data"
      ]
    },
    {
      "cell_type": "code",
      "metadata": {
        "colab": {
          "base_uri": "https://localhost:8080/"
        },
        "id": "tVOdL4u88W9b",
        "outputId": "9d3494b2-5c19-4562-f5e7-4a9f880ceee5"
      },
      "source": [
        "from google.colab import drive\n",
        "drive.mount('/content/gdrive') #, force_remount = True"
      ],
      "execution_count": null,
      "outputs": [
        {
          "output_type": "stream",
          "text": [
            "Mounted at /content/gdrive\n"
          ],
          "name": "stdout"
        }
      ]
    },
    {
      "cell_type": "code",
      "metadata": {
        "id": "s2A6dqWX8YcE"
      },
      "source": [
        "df = pd.read_pickle(\"./gdrive/MyDrive/IR_Lab/Datasets/final_features_combined.pkl\")"
      ],
      "execution_count": null,
      "outputs": []
    },
    {
      "cell_type": "code",
      "metadata": {
        "colab": {
          "base_uri": "https://localhost:8080/"
        },
        "id": "1YwiMUSs8iPo",
        "outputId": "47c96cad-8cca-423f-ff8c-29395293ee66"
      },
      "source": [
        "# Remove non-numeric columns\n",
        "non_numeric_cols = ['title', 'body', 'lang',\n",
        "       'title_token', 'body_token', 'title_processed', 'body_processed', 'title_lemma','body_lemma',\n",
        "        'label']\n",
        "print(\"non-numeric cols\",len(non_numeric_cols))\n",
        "X = df.drop(non_numeric_cols, axis = 1)\n",
        "\n",
        "title_columns = set(X.columns[X.columns.str.startswith('title')])\n",
        "print('title cols',len(title_columns))\n",
        "body_columns  = set(X.columns[X.columns.str.startswith('body')])\n",
        "print('body cols',len(body_columns))\n",
        "\n",
        "#print(\"Intersection of title and body cols\",title_columns.intersection(body_columns))\n",
        "#print(\"Union of title and body cols\",title_columns.intersection(body_columns))\n",
        "print(\"Total cols\",len(df.columns))"
      ],
      "execution_count": null,
      "outputs": [
        {
          "output_type": "stream",
          "text": [
            "non-numeric cols 10\n",
            "title cols 241\n",
            "body cols 243\n",
            "Total cols 494\n"
          ],
          "name": "stdout"
        }
      ]
    },
    {
      "cell_type": "code",
      "metadata": {
        "colab": {
          "base_uri": "https://localhost:8080/"
        },
        "id": "XJB0f2U9840u",
        "outputId": "5db04af8-d977-42ca-d6a3-4e041629b052"
      },
      "source": [
        "print(df.label.value_counts())\n",
        "\n",
        "# Sample the min of both Fake and Real i.e. Real\n",
        "df_true = df[df.label == 1].sample(len(df[df.label == 0])) \n",
        "df_fake = df[df.label == 0].sample(len(df[df.label == 0]))\n",
        "df_final = pd.DataFrame(np.concatenate([df_true, df_fake]), columns = df_true.columns)\n",
        "\n",
        "print(df_final.label.value_counts())"
      ],
      "execution_count": null,
      "outputs": [
        {
          "output_type": "stream",
          "text": [
            "1    33229\n",
            "0    27907\n",
            "Name: label, dtype: int64\n",
            "1    27907\n",
            "0    27907\n",
            "Name: label, dtype: int64\n"
          ],
          "name": "stdout"
        }
      ]
    },
    {
      "cell_type": "markdown",
      "metadata": {
        "id": "KCu44xvm_kmM"
      },
      "source": [
        "## Stylistic features\n",
        "\n",
        "-  Text statistics like word count,  words_per_sentence etc.\n",
        "-  POS features"
      ]
    },
    {
      "cell_type": "code",
      "metadata": {
        "id": "bmYToNh697Hg"
      },
      "source": [
        "title_pos_features = [\"title_''\",'title_CC','title_CD','title_DT','title_EX','title_FW','title_IN','title_JJ','title_JJR','title_JJS','title_MD','title_NN','title_NNP','title_NNPS','title_NNS',\n",
        " 'title_PDT','title_POS','title_PRP','title_PRP$','title_RB','title_RBR','title_RBS','title_RP','title_SYM','title_TO','title_UH',\n",
        " 'title_VB','title_VBD','title_VBG','title_VBN','title_VBP','title_VBZ','title_WDT','title_WP','title_WP$','title_WRB']"
      ],
      "execution_count": null,
      "outputs": []
    },
    {
      "cell_type": "code",
      "metadata": {
        "id": "nYDaj9AP96LH"
      },
      "source": [
        "title_text_statistics = ['title_length','title_sent_count','title_word_count']"
      ],
      "execution_count": null,
      "outputs": []
    },
    {
      "cell_type": "code",
      "metadata": {
        "id": "9so199Ar96hG"
      },
      "source": [
        "title_stylistic_features = list(set(title_pos_features).union(set(title_text_statistics)))"
      ],
      "execution_count": null,
      "outputs": []
    },
    {
      "cell_type": "code",
      "metadata": {
        "id": "HUoA6X_v-AMc"
      },
      "source": [
        "body_pos_features = ['body_$',\n",
        " \"body_''\",\n",
        " 'body_CC',\n",
        " 'body_CD',\n",
        " 'body_DT',\n",
        " 'body_EX',\n",
        " 'body_FW',\n",
        " 'body_IN',\n",
        " 'body_JJ',\n",
        " 'body_JJR',\n",
        " 'body_JJS',\n",
        " 'body_MD',\n",
        " 'body_NN',\n",
        " 'body_NNP',\n",
        " 'body_NNPS',\n",
        " 'body_NNS',\n",
        " 'body_PDT',\n",
        " 'body_POS',\n",
        " 'body_PRP',\n",
        " 'body_PRP$',\n",
        " 'body_RB',\n",
        " 'body_RBR',\n",
        " 'body_RBS',\n",
        " 'body_RP',\n",
        " 'body_SYM',\n",
        " 'body_TO',\n",
        " 'body_UH',\n",
        " 'body_VB',\n",
        " 'body_VBD',\n",
        " 'body_VBG',\n",
        " 'body_VBN',\n",
        " 'body_VBP',\n",
        " 'body_VBZ', \n",
        " 'body_WDT',\n",
        " 'body_WP',\n",
        " 'body_WP$',\n",
        " 'body_WRB',\n",
        " 'body_``']"
      ],
      "execution_count": null,
      "outputs": []
    },
    {
      "cell_type": "code",
      "metadata": {
        "id": "rfiA4p-i96jV"
      },
      "source": [
        "body_text_statistics = ['body_length','body_sent_count','body_word_count']"
      ],
      "execution_count": null,
      "outputs": []
    },
    {
      "cell_type": "code",
      "metadata": {
        "id": "5pMkvYjI-Dmn"
      },
      "source": [
        "body_stylistic_features =  list(set(body_pos_features).union(set(body_text_statistics)))"
      ],
      "execution_count": null,
      "outputs": []
    },
    {
      "cell_type": "code",
      "metadata": {
        "id": "owbG5D-u-CZE"
      },
      "source": [
        ""
      ],
      "execution_count": null,
      "outputs": []
    },
    {
      "cell_type": "markdown",
      "metadata": {
        "id": "z_3WGzGR_yi9"
      },
      "source": [
        "## Psychology features\n",
        "\n",
        "- Sentiment analysis features from Vader, Textblob etc\n",
        "- Emotion features from Empath"
      ]
    },
    {
      "cell_type": "code",
      "metadata": {
        "id": "SLmidxck_yAE"
      },
      "source": [
        "title_sentiment_features  = ['title_compound_sentiment','title_polarity', 'title_subjectivity'] \n",
        "title_emotion_features = [col for col in title_columns if col.startswith('title_emo')]"
      ],
      "execution_count": null,
      "outputs": []
    },
    {
      "cell_type": "code",
      "metadata": {
        "id": "-ZCAPdRh_yCM"
      },
      "source": [
        "title_psychology_features = list(set(title_sentiment_features).union(set(title_emotion_features)))"
      ],
      "execution_count": null,
      "outputs": []
    },
    {
      "cell_type": "code",
      "metadata": {
        "id": "klJsOmC9_yEd"
      },
      "source": [
        "body_sentiment_features = ['body_polarity', 'body_subjectivity'] \n",
        "body_emotion_features = [col for col in body_columns if col.startswith('body_emo')]"
      ],
      "execution_count": null,
      "outputs": []
    },
    {
      "cell_type": "code",
      "metadata": {
        "id": "nfMFf8PV_yIH"
      },
      "source": [
        "body_psychology_features = list(set(body_sentiment_features).union(set(body_emotion_features)))"
      ],
      "execution_count": null,
      "outputs": []
    },
    {
      "cell_type": "code",
      "metadata": {
        "id": "ampj1yOa__Lt"
      },
      "source": [
        ""
      ],
      "execution_count": null,
      "outputs": []
    },
    {
      "cell_type": "code",
      "metadata": {
        "id": "cgry98SU__Nz"
      },
      "source": [
        ""
      ],
      "execution_count": null,
      "outputs": []
    },
    {
      "cell_type": "markdown",
      "metadata": {
        "id": "j1S6hrm5AB0r"
      },
      "source": [
        "## Complexity Features\n",
        "-  Common readability measures\n",
        "-  Type Token Ratio  (Not for title)\n",
        "-  avg word len,  avg sentence len"
      ]
    },
    {
      "cell_type": "code",
      "metadata": {
        "id": "H9fAhnL8__QG"
      },
      "source": [
        "title_complexity_features = ['title_avg_sent_len', 'title_avg_word_len','title_flesch_kincaidgrade',\n",
        " 'title_flesch_readability',\n",
        " 'title_gunning_fog']"
      ],
      "execution_count": null,
      "outputs": []
    },
    {
      "cell_type": "code",
      "metadata": {
        "id": "JyIuOqUe__SG"
      },
      "source": [
        "body_complexity_features = ['body_avg_sent_len', 'body_avg_word_len','body_flesch_kincaidgrade',\n",
        " 'body_flesch_readability',\n",
        " 'body_gunning_fog','body_TTR']"
      ],
      "execution_count": null,
      "outputs": []
    },
    {
      "cell_type": "code",
      "metadata": {
        "colab": {
          "base_uri": "https://localhost:8080/"
        },
        "id": "2rQxghOXAIfj",
        "outputId": "1012fbf4-7ba0-4b24-8207-a90f974037d7"
      },
      "source": [
        "print(len(title_complexity_features))\n",
        "print(len(title_psychology_features))\n",
        "print(len(title_stylistic_features))\n",
        "print(len(title_columns),'==',5+197+39)"
      ],
      "execution_count": null,
      "outputs": [
        {
          "output_type": "stream",
          "text": [
            "5\n",
            "197\n",
            "39\n",
            "241 == 241\n"
          ],
          "name": "stdout"
        }
      ]
    },
    {
      "cell_type": "code",
      "metadata": {
        "colab": {
          "base_uri": "https://localhost:8080/"
        },
        "id": "hd5UVhqhANR7",
        "outputId": "0aadf017-4503-4034-e05b-40dbe12694fc"
      },
      "source": [
        "print(len(body_complexity_features))\n",
        "print(len(body_psychology_features))\n",
        "print(len(body_stylistic_features))\n",
        "print(len(body_columns),'==',6+196+41)"
      ],
      "execution_count": null,
      "outputs": [
        {
          "output_type": "stream",
          "text": [
            "6\n",
            "196\n",
            "41\n",
            "243 == 243\n"
          ],
          "name": "stdout"
        }
      ]
    },
    {
      "cell_type": "code",
      "metadata": {
        "id": "e64NGLYGAIkU"
      },
      "source": [
        ""
      ],
      "execution_count": null,
      "outputs": []
    },
    {
      "cell_type": "markdown",
      "metadata": {
        "id": "SpBhdE6SAP8F"
      },
      "source": [
        "# Statistical tests"
      ]
    },
    {
      "cell_type": "code",
      "metadata": {
        "id": "-TLykbBp8_eD"
      },
      "source": [
        "## statistical T-test\n",
        "from scipy.stats import ttest_ind\n",
        "def t_test(df):\n",
        "  #df.label = df.label.apply(lambda x: 1 if x in [\"fake\",\"Fake\",'1',1] else 0)\n",
        "  real_news = df[df.label == 1]  # Labels interchanged \n",
        "  fake_news = df[df.label == 0]\n",
        "  \n",
        "  print(real_news.shape, fake_news.shape)\n",
        "\n",
        "  selected_features = [ col for col in df.columns if col not in ['label','news_id','news_title','news_text']]\n",
        "  frames=[]\n",
        "  for feature in selected_features:\n",
        "      t_stat,p_value = ttest_ind(real_news[feature], fake_news[feature])\n",
        "      frames.append([feature,t_stat,p_value])\n",
        "  t_test_result = pd.DataFrame(frames, columns=['feature','statistics','Pvalue'])\n",
        "  t_test_result.sort_values(by='Pvalue', ascending=True, inplace=True)\n",
        "  statistical_sig_result = t_test_result[t_test_result['Pvalue'] < 0.05]\n",
        "  statistical_sig_result['feature_differ'] = statistical_sig_result.apply(lambda x: 'Real > Fake' if x['statistics'] > 0 else 'Fake > Real', axis=1)\n",
        "  return statistical_sig_result"
      ],
      "execution_count": null,
      "outputs": []
    },
    {
      "cell_type": "markdown",
      "metadata": {
        "id": "ZJYt7ptlAUCt"
      },
      "source": [
        "# Title"
      ]
    },
    {
      "cell_type": "code",
      "metadata": {
        "colab": {
          "base_uri": "https://localhost:8080/"
        },
        "id": "RngFMeFb9c2g",
        "outputId": "2c73d053-7c3c-4319-e92e-dcdaa8a4b488"
      },
      "source": [
        "stat_title = t_test(df_final[list(set(title_columns).union(['label']))])"
      ],
      "execution_count": null,
      "outputs": [
        {
          "output_type": "stream",
          "text": [
            "(27907, 242) (27907, 242)\n"
          ],
          "name": "stdout"
        },
        {
          "output_type": "stream",
          "text": [
            "/usr/local/lib/python3.7/dist-packages/ipykernel_launcher.py:18: SettingWithCopyWarning: \n",
            "A value is trying to be set on a copy of a slice from a DataFrame.\n",
            "Try using .loc[row_indexer,col_indexer] = value instead\n",
            "\n",
            "See the caveats in the documentation: https://pandas.pydata.org/pandas-docs/stable/user_guide/indexing.html#returning-a-view-versus-a-copy\n"
          ],
          "name": "stderr"
        }
      ]
    },
    {
      "cell_type": "code",
      "metadata": {
        "colab": {
          "base_uri": "https://localhost:8080/",
          "height": 424
        },
        "id": "j1AZtzuH9hu-",
        "outputId": "13eb583b-c5e9-4e73-b66c-c4260c216153"
      },
      "source": [
        "stat_title"
      ],
      "execution_count": null,
      "outputs": [
        {
          "output_type": "execute_result",
          "data": {
            "text/html": [
              "<div>\n",
              "<style scoped>\n",
              "    .dataframe tbody tr th:only-of-type {\n",
              "        vertical-align: middle;\n",
              "    }\n",
              "\n",
              "    .dataframe tbody tr th {\n",
              "        vertical-align: top;\n",
              "    }\n",
              "\n",
              "    .dataframe thead th {\n",
              "        text-align: right;\n",
              "    }\n",
              "</style>\n",
              "<table border=\"1\" class=\"dataframe\">\n",
              "  <thead>\n",
              "    <tr style=\"text-align: right;\">\n",
              "      <th></th>\n",
              "      <th>feature</th>\n",
              "      <th>statistics</th>\n",
              "      <th>Pvalue</th>\n",
              "      <th>feature_differ</th>\n",
              "    </tr>\n",
              "  </thead>\n",
              "  <tbody>\n",
              "    <tr>\n",
              "      <th>163</th>\n",
              "      <td>title_emo_musical</td>\n",
              "      <td>-74.890700</td>\n",
              "      <td>0.000000</td>\n",
              "      <td>Fake &gt; Real</td>\n",
              "    </tr>\n",
              "    <tr>\n",
              "      <th>28</th>\n",
              "      <td>title_emo_social_media</td>\n",
              "      <td>-70.824469</td>\n",
              "      <td>0.000000</td>\n",
              "      <td>Fake &gt; Real</td>\n",
              "    </tr>\n",
              "    <tr>\n",
              "      <th>147</th>\n",
              "      <td>title_length</td>\n",
              "      <td>-71.632562</td>\n",
              "      <td>0.000000</td>\n",
              "      <td>Fake &gt; Real</td>\n",
              "    </tr>\n",
              "    <tr>\n",
              "      <th>105</th>\n",
              "      <td>title_avg_sent_len</td>\n",
              "      <td>-68.911895</td>\n",
              "      <td>0.000000</td>\n",
              "      <td>Fake &gt; Real</td>\n",
              "    </tr>\n",
              "    <tr>\n",
              "      <th>139</th>\n",
              "      <td>title_emo_messaging</td>\n",
              "      <td>-72.126693</td>\n",
              "      <td>0.000000</td>\n",
              "      <td>Fake &gt; Real</td>\n",
              "    </tr>\n",
              "    <tr>\n",
              "      <th>...</th>\n",
              "      <td>...</td>\n",
              "      <td>...</td>\n",
              "      <td>...</td>\n",
              "      <td>...</td>\n",
              "    </tr>\n",
              "    <tr>\n",
              "      <th>206</th>\n",
              "      <td>title_emo_stealing</td>\n",
              "      <td>-2.216519</td>\n",
              "      <td>0.026660</td>\n",
              "      <td>Fake &gt; Real</td>\n",
              "    </tr>\n",
              "    <tr>\n",
              "      <th>125</th>\n",
              "      <td>title_emo_farming</td>\n",
              "      <td>2.100470</td>\n",
              "      <td>0.035692</td>\n",
              "      <td>Real &gt; Fake</td>\n",
              "    </tr>\n",
              "    <tr>\n",
              "      <th>51</th>\n",
              "      <td>title_emo_blue_collar_job</td>\n",
              "      <td>-2.062186</td>\n",
              "      <td>0.039195</td>\n",
              "      <td>Fake &gt; Real</td>\n",
              "    </tr>\n",
              "    <tr>\n",
              "      <th>140</th>\n",
              "      <td>title_FW</td>\n",
              "      <td>2.003095</td>\n",
              "      <td>0.045172</td>\n",
              "      <td>Real &gt; Fake</td>\n",
              "    </tr>\n",
              "    <tr>\n",
              "      <th>195</th>\n",
              "      <td>title_emo_hygiene</td>\n",
              "      <td>-1.968312</td>\n",
              "      <td>0.049037</td>\n",
              "      <td>Fake &gt; Real</td>\n",
              "    </tr>\n",
              "  </tbody>\n",
              "</table>\n",
              "<p>180 rows × 4 columns</p>\n",
              "</div>"
            ],
            "text/plain": [
              "                       feature  statistics    Pvalue feature_differ\n",
              "163          title_emo_musical  -74.890700  0.000000    Fake > Real\n",
              "28      title_emo_social_media  -70.824469  0.000000    Fake > Real\n",
              "147               title_length  -71.632562  0.000000    Fake > Real\n",
              "105         title_avg_sent_len  -68.911895  0.000000    Fake > Real\n",
              "139        title_emo_messaging  -72.126693  0.000000    Fake > Real\n",
              "..                         ...         ...       ...            ...\n",
              "206         title_emo_stealing   -2.216519  0.026660    Fake > Real\n",
              "125          title_emo_farming    2.100470  0.035692    Real > Fake\n",
              "51   title_emo_blue_collar_job   -2.062186  0.039195    Fake > Real\n",
              "140                   title_FW    2.003095  0.045172    Real > Fake\n",
              "195          title_emo_hygiene   -1.968312  0.049037    Fake > Real\n",
              "\n",
              "[180 rows x 4 columns]"
            ]
          },
          "metadata": {
            "tags": []
          },
          "execution_count": 24
        }
      ]
    },
    {
      "cell_type": "code",
      "metadata": {
        "id": "PaqrweeR9iRg"
      },
      "source": [
        ""
      ],
      "execution_count": null,
      "outputs": []
    },
    {
      "cell_type": "markdown",
      "metadata": {
        "id": "vUu5I3nYBkxH"
      },
      "source": [
        "# Body"
      ]
    },
    {
      "cell_type": "code",
      "metadata": {
        "colab": {
          "base_uri": "https://localhost:8080/"
        },
        "id": "fnRjAHkABl0P",
        "outputId": "2b6fed1d-afa5-424b-873b-fc068d3a548b"
      },
      "source": [
        "stat_body = t_test(df_final[list(set(body_columns).union(['label']))])"
      ],
      "execution_count": null,
      "outputs": [
        {
          "output_type": "stream",
          "text": [
            "(27907, 244) (27907, 244)\n"
          ],
          "name": "stdout"
        },
        {
          "output_type": "stream",
          "text": [
            "/usr/local/lib/python3.7/dist-packages/ipykernel_launcher.py:18: SettingWithCopyWarning: \n",
            "A value is trying to be set on a copy of a slice from a DataFrame.\n",
            "Try using .loc[row_indexer,col_indexer] = value instead\n",
            "\n",
            "See the caveats in the documentation: https://pandas.pydata.org/pandas-docs/stable/user_guide/indexing.html#returning-a-view-versus-a-copy\n"
          ],
          "name": "stderr"
        }
      ]
    },
    {
      "cell_type": "code",
      "metadata": {
        "colab": {
          "base_uri": "https://localhost:8080/",
          "height": 424
        },
        "id": "6VTU0ylfBp3z",
        "outputId": "897db5b3-dca9-4d1a-bbc6-fb7fb10ffa40"
      },
      "source": [
        "stat_body"
      ],
      "execution_count": null,
      "outputs": [
        {
          "output_type": "execute_result",
          "data": {
            "text/html": [
              "<div>\n",
              "<style scoped>\n",
              "    .dataframe tbody tr th:only-of-type {\n",
              "        vertical-align: middle;\n",
              "    }\n",
              "\n",
              "    .dataframe tbody tr th {\n",
              "        vertical-align: top;\n",
              "    }\n",
              "\n",
              "    .dataframe thead th {\n",
              "        text-align: right;\n",
              "    }\n",
              "</style>\n",
              "<table border=\"1\" class=\"dataframe\">\n",
              "  <thead>\n",
              "    <tr style=\"text-align: right;\">\n",
              "      <th></th>\n",
              "      <th>feature</th>\n",
              "      <th>statistics</th>\n",
              "      <th>Pvalue</th>\n",
              "      <th>feature_differ</th>\n",
              "    </tr>\n",
              "  </thead>\n",
              "  <tbody>\n",
              "    <tr>\n",
              "      <th>49</th>\n",
              "      <td>body_emo_negative_emotion</td>\n",
              "      <td>-48.391989</td>\n",
              "      <td>0.000000</td>\n",
              "      <td>Fake &gt; Real</td>\n",
              "    </tr>\n",
              "    <tr>\n",
              "      <th>162</th>\n",
              "      <td>body_emo_messaging</td>\n",
              "      <td>-42.595888</td>\n",
              "      <td>0.000000</td>\n",
              "      <td>Fake &gt; Real</td>\n",
              "    </tr>\n",
              "    <tr>\n",
              "      <th>231</th>\n",
              "      <td>body_emo_real_estate</td>\n",
              "      <td>40.233389</td>\n",
              "      <td>0.000000</td>\n",
              "      <td>Real &gt; Fake</td>\n",
              "    </tr>\n",
              "    <tr>\n",
              "      <th>177</th>\n",
              "      <td>body_emo_swearing_terms</td>\n",
              "      <td>-39.249110</td>\n",
              "      <td>0.000000</td>\n",
              "      <td>Fake &gt; Real</td>\n",
              "    </tr>\n",
              "    <tr>\n",
              "      <th>214</th>\n",
              "      <td>body_emo_government</td>\n",
              "      <td>71.078243</td>\n",
              "      <td>0.000000</td>\n",
              "      <td>Real &gt; Fake</td>\n",
              "    </tr>\n",
              "    <tr>\n",
              "      <th>...</th>\n",
              "      <td>...</td>\n",
              "      <td>...</td>\n",
              "      <td>...</td>\n",
              "      <td>...</td>\n",
              "    </tr>\n",
              "    <tr>\n",
              "      <th>110</th>\n",
              "      <td>body_emo_fun</td>\n",
              "      <td>-2.353325</td>\n",
              "      <td>0.018610</td>\n",
              "      <td>Fake &gt; Real</td>\n",
              "    </tr>\n",
              "    <tr>\n",
              "      <th>153</th>\n",
              "      <td>body_emo_crime</td>\n",
              "      <td>2.320045</td>\n",
              "      <td>0.020342</td>\n",
              "      <td>Real &gt; Fake</td>\n",
              "    </tr>\n",
              "    <tr>\n",
              "      <th>51</th>\n",
              "      <td>body_TO</td>\n",
              "      <td>-2.308327</td>\n",
              "      <td>0.020985</td>\n",
              "      <td>Fake &gt; Real</td>\n",
              "    </tr>\n",
              "    <tr>\n",
              "      <th>139</th>\n",
              "      <td>body_emo_eating</td>\n",
              "      <td>-2.123810</td>\n",
              "      <td>0.033690</td>\n",
              "      <td>Fake &gt; Real</td>\n",
              "    </tr>\n",
              "    <tr>\n",
              "      <th>60</th>\n",
              "      <td>body_emo_philosophy</td>\n",
              "      <td>-2.120152</td>\n",
              "      <td>0.033998</td>\n",
              "      <td>Fake &gt; Real</td>\n",
              "    </tr>\n",
              "  </tbody>\n",
              "</table>\n",
              "<p>221 rows × 4 columns</p>\n",
              "</div>"
            ],
            "text/plain": [
              "                       feature  statistics    Pvalue feature_differ\n",
              "49   body_emo_negative_emotion  -48.391989  0.000000    Fake > Real\n",
              "162         body_emo_messaging  -42.595888  0.000000    Fake > Real\n",
              "231       body_emo_real_estate   40.233389  0.000000    Real > Fake\n",
              "177    body_emo_swearing_terms  -39.249110  0.000000    Fake > Real\n",
              "214        body_emo_government   71.078243  0.000000    Real > Fake\n",
              "..                         ...         ...       ...            ...\n",
              "110               body_emo_fun   -2.353325  0.018610    Fake > Real\n",
              "153             body_emo_crime    2.320045  0.020342    Real > Fake\n",
              "51                     body_TO   -2.308327  0.020985    Fake > Real\n",
              "139            body_emo_eating   -2.123810  0.033690    Fake > Real\n",
              "60         body_emo_philosophy   -2.120152  0.033998    Fake > Real\n",
              "\n",
              "[221 rows x 4 columns]"
            ]
          },
          "metadata": {
            "tags": []
          },
          "execution_count": 26
        }
      ]
    },
    {
      "cell_type": "code",
      "metadata": {
        "id": "POL_w2NXB0ng"
      },
      "source": [
        "features_used_in_paper = ['Analytic','insight','cause','discrep','tentat','certain','differ','affiliation','power','reward','risk','work','leisure',\n",
        "                            'money','relig','Tone','affect','WC','WPS','num_nouns','num_propernouns','num_personalnouns','num_ppssessivenouns',\n",
        "                            'num_whpronoun','num_determinants','num_whdeterminants','num_cnum','num_adverb','num_interjections','num_verb','num_adj',\n",
        "                            'num_vbd','num_vbg','num_vbn','num_vbp','num_vbz','focuspast','focusfuture','i','we','you','shehe','quant','compare','Exclam',\n",
        "                            'negate','swear','netspeak','interrog','count_uppercased','percentage_stopwords','AllPunc','Quote', 'lexical_diversity','wlen',\n",
        "                            'gunning_fog_index','smog_index','flesch_kincaid_grade_level',\n",
        "                          'Anger','Anticipation','Disgust','Fear','Joy', 'Sadness', 'Surprise', 'Trust','neg','pos','posemo','negemo','anx'\n",
        "                          \n",
        "                         ,'title_length', 'title_sent_count', 'title_word_count','body_length', 'body_sent_count', 'body_word_count',\n",
        "                          'title_avg_sent_len','title_avg_word_len','title_flesch_kincaidgrade','title_flesch_readability','title_gunning_fog',\n",
        "                          'body_avg_sent_len', 'body_avg_word_len', 'body_flesch_kincaidgrade', 'body_flesch_readability', 'body_gunning_fog','body_TTR',\n",
        "                          'title_compound_sentiment', 'title_polarity', 'title_subjectivity','body_polarity', 'body_subjectivity'\n",
        "                          ] # Add our feature names\n",
        "\n",
        "def num_sig(df):\n",
        "  ddf_sig = df[df.feature.isin(features_used_in_paper)]\n",
        "  return ddf_sig"
      ],
      "execution_count": null,
      "outputs": []
    },
    {
      "cell_type": "code",
      "metadata": {
        "id": "f_dSQ1OaCtXn"
      },
      "source": [
        "\n",
        "df_body = num_sig(stat_body)\n",
        "\n",
        "df_title = num_sig(stat_title)"
      ],
      "execution_count": null,
      "outputs": []
    },
    {
      "cell_type": "markdown",
      "metadata": {
        "id": "yRi5MP0ZDMIx"
      },
      "source": [
        "# complexity, statistics, sentiment"
      ]
    },
    {
      "cell_type": "code",
      "metadata": {
        "colab": {
          "base_uri": "https://localhost:8080/",
          "height": 332
        },
        "id": "00wzZgzeDKnT",
        "outputId": "9b886abf-3d57-4e5a-c463-008f6eea8887"
      },
      "source": [
        "df_title"
      ],
      "execution_count": null,
      "outputs": [
        {
          "output_type": "execute_result",
          "data": {
            "text/html": [
              "<div>\n",
              "<style scoped>\n",
              "    .dataframe tbody tr th:only-of-type {\n",
              "        vertical-align: middle;\n",
              "    }\n",
              "\n",
              "    .dataframe tbody tr th {\n",
              "        vertical-align: top;\n",
              "    }\n",
              "\n",
              "    .dataframe thead th {\n",
              "        text-align: right;\n",
              "    }\n",
              "</style>\n",
              "<table border=\"1\" class=\"dataframe\">\n",
              "  <thead>\n",
              "    <tr style=\"text-align: right;\">\n",
              "      <th></th>\n",
              "      <th>feature</th>\n",
              "      <th>statistics</th>\n",
              "      <th>Pvalue</th>\n",
              "      <th>feature_differ</th>\n",
              "    </tr>\n",
              "  </thead>\n",
              "  <tbody>\n",
              "    <tr>\n",
              "      <th>147</th>\n",
              "      <td>title_length</td>\n",
              "      <td>-71.632562</td>\n",
              "      <td>0.000000e+00</td>\n",
              "      <td>Fake &gt; Real</td>\n",
              "    </tr>\n",
              "    <tr>\n",
              "      <th>105</th>\n",
              "      <td>title_avg_sent_len</td>\n",
              "      <td>-68.911895</td>\n",
              "      <td>0.000000e+00</td>\n",
              "      <td>Fake &gt; Real</td>\n",
              "    </tr>\n",
              "    <tr>\n",
              "      <th>89</th>\n",
              "      <td>title_word_count</td>\n",
              "      <td>-76.477412</td>\n",
              "      <td>0.000000e+00</td>\n",
              "      <td>Fake &gt; Real</td>\n",
              "    </tr>\n",
              "    <tr>\n",
              "      <th>88</th>\n",
              "      <td>title_subjectivity</td>\n",
              "      <td>-37.372058</td>\n",
              "      <td>6.079630e-302</td>\n",
              "      <td>Fake &gt; Real</td>\n",
              "    </tr>\n",
              "    <tr>\n",
              "      <th>221</th>\n",
              "      <td>title_flesch_kincaidgrade</td>\n",
              "      <td>-19.301883</td>\n",
              "      <td>9.649231e-83</td>\n",
              "      <td>Fake &gt; Real</td>\n",
              "    </tr>\n",
              "    <tr>\n",
              "      <th>99</th>\n",
              "      <td>title_compound_sentiment</td>\n",
              "      <td>18.807574</td>\n",
              "      <td>1.147540e-78</td>\n",
              "      <td>Real &gt; Fake</td>\n",
              "    </tr>\n",
              "    <tr>\n",
              "      <th>18</th>\n",
              "      <td>title_polarity</td>\n",
              "      <td>13.406088</td>\n",
              "      <td>6.445476e-41</td>\n",
              "      <td>Real &gt; Fake</td>\n",
              "    </tr>\n",
              "    <tr>\n",
              "      <th>37</th>\n",
              "      <td>title_gunning_fog</td>\n",
              "      <td>-6.757271</td>\n",
              "      <td>1.419913e-11</td>\n",
              "      <td>Fake &gt; Real</td>\n",
              "    </tr>\n",
              "    <tr>\n",
              "      <th>29</th>\n",
              "      <td>title_avg_word_len</td>\n",
              "      <td>3.066877</td>\n",
              "      <td>2.164111e-03</td>\n",
              "      <td>Real &gt; Fake</td>\n",
              "    </tr>\n",
              "  </tbody>\n",
              "</table>\n",
              "</div>"
            ],
            "text/plain": [
              "                       feature  statistics         Pvalue feature_differ\n",
              "147               title_length  -71.632562   0.000000e+00    Fake > Real\n",
              "105         title_avg_sent_len  -68.911895   0.000000e+00    Fake > Real\n",
              "89            title_word_count  -76.477412   0.000000e+00    Fake > Real\n",
              "88          title_subjectivity  -37.372058  6.079630e-302    Fake > Real\n",
              "221  title_flesch_kincaidgrade  -19.301883   9.649231e-83    Fake > Real\n",
              "99    title_compound_sentiment   18.807574   1.147540e-78    Real > Fake\n",
              "18              title_polarity   13.406088   6.445476e-41    Real > Fake\n",
              "37           title_gunning_fog   -6.757271   1.419913e-11    Fake > Real\n",
              "29          title_avg_word_len    3.066877   2.164111e-03    Real > Fake"
            ]
          },
          "metadata": {
            "tags": []
          },
          "execution_count": 29
        }
      ]
    },
    {
      "cell_type": "code",
      "metadata": {
        "colab": {
          "base_uri": "https://localhost:8080/",
          "height": 363
        },
        "id": "6Z_LDPgjC0mq",
        "outputId": "53fd6a46-c594-44d3-a2c1-b9afb9fe4a76"
      },
      "source": [
        "df_body"
      ],
      "execution_count": null,
      "outputs": [
        {
          "output_type": "execute_result",
          "data": {
            "text/html": [
              "<div>\n",
              "<style scoped>\n",
              "    .dataframe tbody tr th:only-of-type {\n",
              "        vertical-align: middle;\n",
              "    }\n",
              "\n",
              "    .dataframe tbody tr th {\n",
              "        vertical-align: top;\n",
              "    }\n",
              "\n",
              "    .dataframe thead th {\n",
              "        text-align: right;\n",
              "    }\n",
              "</style>\n",
              "<table border=\"1\" class=\"dataframe\">\n",
              "  <thead>\n",
              "    <tr style=\"text-align: right;\">\n",
              "      <th></th>\n",
              "      <th>feature</th>\n",
              "      <th>statistics</th>\n",
              "      <th>Pvalue</th>\n",
              "      <th>feature_differ</th>\n",
              "    </tr>\n",
              "  </thead>\n",
              "  <tbody>\n",
              "    <tr>\n",
              "      <th>12</th>\n",
              "      <td>body_subjectivity</td>\n",
              "      <td>-72.652087</td>\n",
              "      <td>0.000000e+00</td>\n",
              "      <td>Fake &gt; Real</td>\n",
              "    </tr>\n",
              "    <tr>\n",
              "      <th>77</th>\n",
              "      <td>body_avg_word_len</td>\n",
              "      <td>56.712293</td>\n",
              "      <td>0.000000e+00</td>\n",
              "      <td>Real &gt; Fake</td>\n",
              "    </tr>\n",
              "    <tr>\n",
              "      <th>203</th>\n",
              "      <td>body_TTR</td>\n",
              "      <td>-13.798719</td>\n",
              "      <td>3.055684e-43</td>\n",
              "      <td>Fake &gt; Real</td>\n",
              "    </tr>\n",
              "    <tr>\n",
              "      <th>98</th>\n",
              "      <td>body_word_count</td>\n",
              "      <td>10.669290</td>\n",
              "      <td>1.503147e-26</td>\n",
              "      <td>Real &gt; Fake</td>\n",
              "    </tr>\n",
              "    <tr>\n",
              "      <th>238</th>\n",
              "      <td>body_length</td>\n",
              "      <td>10.533655</td>\n",
              "      <td>6.392612e-26</td>\n",
              "      <td>Real &gt; Fake</td>\n",
              "    </tr>\n",
              "    <tr>\n",
              "      <th>144</th>\n",
              "      <td>body_flesch_readability</td>\n",
              "      <td>-9.780161</td>\n",
              "      <td>1.428379e-22</td>\n",
              "      <td>Fake &gt; Real</td>\n",
              "    </tr>\n",
              "    <tr>\n",
              "      <th>178</th>\n",
              "      <td>body_flesch_kincaidgrade</td>\n",
              "      <td>8.934099</td>\n",
              "      <td>4.226816e-19</td>\n",
              "      <td>Real &gt; Fake</td>\n",
              "    </tr>\n",
              "    <tr>\n",
              "      <th>151</th>\n",
              "      <td>body_avg_sent_len</td>\n",
              "      <td>8.920227</td>\n",
              "      <td>4.790445e-19</td>\n",
              "      <td>Real &gt; Fake</td>\n",
              "    </tr>\n",
              "    <tr>\n",
              "      <th>138</th>\n",
              "      <td>body_gunning_fog</td>\n",
              "      <td>8.781992</td>\n",
              "      <td>1.650500e-18</td>\n",
              "      <td>Real &gt; Fake</td>\n",
              "    </tr>\n",
              "    <tr>\n",
              "      <th>191</th>\n",
              "      <td>body_sent_count</td>\n",
              "      <td>5.307482</td>\n",
              "      <td>1.115735e-07</td>\n",
              "      <td>Real &gt; Fake</td>\n",
              "    </tr>\n",
              "  </tbody>\n",
              "</table>\n",
              "</div>"
            ],
            "text/plain": [
              "                      feature  statistics        Pvalue feature_differ\n",
              "12          body_subjectivity  -72.652087  0.000000e+00    Fake > Real\n",
              "77          body_avg_word_len   56.712293  0.000000e+00    Real > Fake\n",
              "203                  body_TTR  -13.798719  3.055684e-43    Fake > Real\n",
              "98            body_word_count   10.669290  1.503147e-26    Real > Fake\n",
              "238               body_length   10.533655  6.392612e-26    Real > Fake\n",
              "144   body_flesch_readability   -9.780161  1.428379e-22    Fake > Real\n",
              "178  body_flesch_kincaidgrade    8.934099  4.226816e-19    Real > Fake\n",
              "151         body_avg_sent_len    8.920227  4.790445e-19    Real > Fake\n",
              "138          body_gunning_fog    8.781992  1.650500e-18    Real > Fake\n",
              "191           body_sent_count    5.307482  1.115735e-07    Real > Fake"
            ]
          },
          "metadata": {
            "tags": []
          },
          "execution_count": 30
        }
      ]
    },
    {
      "cell_type": "code",
      "metadata": {
        "id": "wYxGtmpxC1li"
      },
      "source": [
        ""
      ],
      "execution_count": null,
      "outputs": []
    },
    {
      "cell_type": "markdown",
      "metadata": {
        "id": "Xx7FtfiKDH2J"
      },
      "source": [
        "# POS"
      ]
    },
    {
      "cell_type": "markdown",
      "metadata": {
        "id": "DclBLmq2Edn5"
      },
      "source": [
        "Features used in original paper: \n",
        "\n",
        "https://github.com/shresthaanu/ECIR21TextualCharacteristicsOfFakeNews/blob/main/Code/step4_statistical_test.ipynb"
      ]
    },
    {
      "cell_type": "code",
      "metadata": {
        "id": "h5opJjewEcUQ"
      },
      "source": [
        "og_pos = ['num_nouns','num_propernouns','num_personalnouns','num_ppssessivenouns',\n",
        "                            'num_whpronoun','num_determinants','num_whdeterminants','num_cnum','num_adverb','num_interjections','num_verb','num_adj',\n",
        "                            'num_vbd','num_vbg','num_vbn','num_vbp','num_vbz']"
      ],
      "execution_count": null,
      "outputs": []
    },
    {
      "cell_type": "markdown",
      "metadata": {
        "id": "2RBFKO-8EtRx"
      },
      "source": [
        "Corresponding nltk pos names:\n",
        "https://www.ling.upenn.edu/courses/Fall_2003/ling001penn_treebank_pos.html"
      ]
    },
    {
      "cell_type": "code",
      "metadata": {
        "id": "oSjxa-v8Ew17"
      },
      "source": [
        "corr_nltk_pos = ['NN','NNS','NNP','PRP','PRP$','WP','DT','WDT','RB','UH','JJ','VB','VBD','VBG','VBN','VBP','VBZ']"
      ],
      "execution_count": null,
      "outputs": []
    },
    {
      "cell_type": "code",
      "metadata": {
        "colab": {
          "base_uri": "https://localhost:8080/"
        },
        "id": "y54uKYcDF9Nt",
        "outputId": "fe7b418a-2e7d-4e5d-a80d-a31d11d8ef8d"
      },
      "source": [
        "title_corr_nltk_pos = [\"title_\"+feat for feat in corr_nltk_pos if \"title_\"+feat in title_pos_features]\n",
        "print(len(title_corr_nltk_pos), len(corr_nltk_pos))\n",
        "title_corr_nltk_pos"
      ],
      "execution_count": null,
      "outputs": [
        {
          "output_type": "stream",
          "text": [
            "17 17\n"
          ],
          "name": "stdout"
        },
        {
          "output_type": "execute_result",
          "data": {
            "text/plain": [
              "['title_NN',\n",
              " 'title_NNS',\n",
              " 'title_NNP',\n",
              " 'title_PRP',\n",
              " 'title_PRP$',\n",
              " 'title_WP',\n",
              " 'title_DT',\n",
              " 'title_WDT',\n",
              " 'title_RB',\n",
              " 'title_UH',\n",
              " 'title_JJ',\n",
              " 'title_VB',\n",
              " 'title_VBD',\n",
              " 'title_VBG',\n",
              " 'title_VBN',\n",
              " 'title_VBP',\n",
              " 'title_VBZ']"
            ]
          },
          "metadata": {
            "tags": []
          },
          "execution_count": 40
        }
      ]
    },
    {
      "cell_type": "code",
      "metadata": {
        "colab": {
          "base_uri": "https://localhost:8080/"
        },
        "id": "AbB_sAZtF9XS",
        "outputId": "7622a45f-7fa1-4c94-db0d-9a83ce0887ce"
      },
      "source": [
        "body_corr_nltk_pos = [\"body_\"+feat for feat in corr_nltk_pos if \"body_\"+feat in body_pos_features]\n",
        "print(len(body_corr_nltk_pos), len(corr_nltk_pos))\n",
        "body_corr_nltk_pos"
      ],
      "execution_count": null,
      "outputs": [
        {
          "output_type": "stream",
          "text": [
            "17 17\n"
          ],
          "name": "stdout"
        },
        {
          "output_type": "execute_result",
          "data": {
            "text/plain": [
              "['body_NN',\n",
              " 'body_NNS',\n",
              " 'body_NNP',\n",
              " 'body_PRP',\n",
              " 'body_PRP$',\n",
              " 'body_WP',\n",
              " 'body_DT',\n",
              " 'body_WDT',\n",
              " 'body_RB',\n",
              " 'body_UH',\n",
              " 'body_JJ',\n",
              " 'body_VB',\n",
              " 'body_VBD',\n",
              " 'body_VBG',\n",
              " 'body_VBN',\n",
              " 'body_VBP',\n",
              " 'body_VBZ']"
            ]
          },
          "metadata": {
            "tags": []
          },
          "execution_count": 41
        }
      ]
    },
    {
      "cell_type": "code",
      "metadata": {
        "id": "fqgg_VoeDY2O"
      },
      "source": [
        "features_used_in_paper = set(body_corr_nltk_pos).union(title_corr_nltk_pos)\n",
        "\n",
        "def num_sig(df):\n",
        "  ddf_sig = df[df.feature.isin(features_used_in_paper)]\n",
        "  return ddf_sig"
      ],
      "execution_count": null,
      "outputs": []
    },
    {
      "cell_type": "code",
      "metadata": {
        "id": "n6GTDy5PD91-"
      },
      "source": [
        "\n",
        "df_body_pos = num_sig(stat_body)\n",
        "\n",
        "df_title_pos = num_sig(stat_title)"
      ],
      "execution_count": null,
      "outputs": []
    },
    {
      "cell_type": "code",
      "metadata": {
        "colab": {
          "base_uri": "https://localhost:8080/",
          "height": 551
        },
        "id": "JP9_MVQfECPK",
        "outputId": "861ba221-0278-4c97-e7d6-6596d6a2165b"
      },
      "source": [
        "df_body_pos"
      ],
      "execution_count": null,
      "outputs": [
        {
          "output_type": "execute_result",
          "data": {
            "text/html": [
              "<div>\n",
              "<style scoped>\n",
              "    .dataframe tbody tr th:only-of-type {\n",
              "        vertical-align: middle;\n",
              "    }\n",
              "\n",
              "    .dataframe tbody tr th {\n",
              "        vertical-align: top;\n",
              "    }\n",
              "\n",
              "    .dataframe thead th {\n",
              "        text-align: right;\n",
              "    }\n",
              "</style>\n",
              "<table border=\"1\" class=\"dataframe\">\n",
              "  <thead>\n",
              "    <tr style=\"text-align: right;\">\n",
              "      <th></th>\n",
              "      <th>feature</th>\n",
              "      <th>statistics</th>\n",
              "      <th>Pvalue</th>\n",
              "      <th>feature_differ</th>\n",
              "    </tr>\n",
              "  </thead>\n",
              "  <tbody>\n",
              "    <tr>\n",
              "      <th>235</th>\n",
              "      <td>body_VBD</td>\n",
              "      <td>46.733568</td>\n",
              "      <td>0.000000e+00</td>\n",
              "      <td>Real &gt; Fake</td>\n",
              "    </tr>\n",
              "    <tr>\n",
              "      <th>159</th>\n",
              "      <td>body_PRP</td>\n",
              "      <td>-26.681251</td>\n",
              "      <td>7.424770e-156</td>\n",
              "      <td>Fake &gt; Real</td>\n",
              "    </tr>\n",
              "    <tr>\n",
              "      <th>43</th>\n",
              "      <td>body_NNS</td>\n",
              "      <td>22.832839</td>\n",
              "      <td>7.291386e-115</td>\n",
              "      <td>Real &gt; Fake</td>\n",
              "    </tr>\n",
              "    <tr>\n",
              "      <th>213</th>\n",
              "      <td>body_VBZ</td>\n",
              "      <td>-18.112236</td>\n",
              "      <td>4.136549e-73</td>\n",
              "      <td>Fake &gt; Real</td>\n",
              "    </tr>\n",
              "    <tr>\n",
              "      <th>127</th>\n",
              "      <td>body_DT</td>\n",
              "      <td>-16.354982</td>\n",
              "      <td>5.530160e-60</td>\n",
              "      <td>Fake &gt; Real</td>\n",
              "    </tr>\n",
              "    <tr>\n",
              "      <th>167</th>\n",
              "      <td>body_RB</td>\n",
              "      <td>-14.685411</td>\n",
              "      <td>9.860204e-49</td>\n",
              "      <td>Fake &gt; Real</td>\n",
              "    </tr>\n",
              "    <tr>\n",
              "      <th>123</th>\n",
              "      <td>body_NN</td>\n",
              "      <td>13.683157</td>\n",
              "      <td>1.499750e-42</td>\n",
              "      <td>Real &gt; Fake</td>\n",
              "    </tr>\n",
              "    <tr>\n",
              "      <th>22</th>\n",
              "      <td>body_NNP</td>\n",
              "      <td>12.862985</td>\n",
              "      <td>8.230093e-38</td>\n",
              "      <td>Real &gt; Fake</td>\n",
              "    </tr>\n",
              "    <tr>\n",
              "      <th>85</th>\n",
              "      <td>body_VBN</td>\n",
              "      <td>11.695357</td>\n",
              "      <td>1.465465e-31</td>\n",
              "      <td>Real &gt; Fake</td>\n",
              "    </tr>\n",
              "    <tr>\n",
              "      <th>108</th>\n",
              "      <td>body_WDT</td>\n",
              "      <td>-11.324311</td>\n",
              "      <td>1.071719e-29</td>\n",
              "      <td>Fake &gt; Real</td>\n",
              "    </tr>\n",
              "    <tr>\n",
              "      <th>54</th>\n",
              "      <td>body_JJ</td>\n",
              "      <td>10.751283</td>\n",
              "      <td>6.210620e-27</td>\n",
              "      <td>Real &gt; Fake</td>\n",
              "    </tr>\n",
              "    <tr>\n",
              "      <th>75</th>\n",
              "      <td>body_UH</td>\n",
              "      <td>-9.507216</td>\n",
              "      <td>2.032885e-21</td>\n",
              "      <td>Fake &gt; Real</td>\n",
              "    </tr>\n",
              "    <tr>\n",
              "      <th>196</th>\n",
              "      <td>body_WP</td>\n",
              "      <td>-5.996585</td>\n",
              "      <td>2.027443e-09</td>\n",
              "      <td>Fake &gt; Real</td>\n",
              "    </tr>\n",
              "    <tr>\n",
              "      <th>26</th>\n",
              "      <td>body_VBG</td>\n",
              "      <td>5.369822</td>\n",
              "      <td>7.912837e-08</td>\n",
              "      <td>Real &gt; Fake</td>\n",
              "    </tr>\n",
              "    <tr>\n",
              "      <th>128</th>\n",
              "      <td>body_VB</td>\n",
              "      <td>4.063670</td>\n",
              "      <td>4.837322e-05</td>\n",
              "      <td>Real &gt; Fake</td>\n",
              "    </tr>\n",
              "    <tr>\n",
              "      <th>40</th>\n",
              "      <td>body_PRP$</td>\n",
              "      <td>3.434258</td>\n",
              "      <td>5.946099e-04</td>\n",
              "      <td>Real &gt; Fake</td>\n",
              "    </tr>\n",
              "  </tbody>\n",
              "</table>\n",
              "</div>"
            ],
            "text/plain": [
              "       feature  statistics         Pvalue feature_differ\n",
              "235   body_VBD   46.733568   0.000000e+00    Real > Fake\n",
              "159   body_PRP  -26.681251  7.424770e-156    Fake > Real\n",
              "43    body_NNS   22.832839  7.291386e-115    Real > Fake\n",
              "213   body_VBZ  -18.112236   4.136549e-73    Fake > Real\n",
              "127    body_DT  -16.354982   5.530160e-60    Fake > Real\n",
              "167    body_RB  -14.685411   9.860204e-49    Fake > Real\n",
              "123    body_NN   13.683157   1.499750e-42    Real > Fake\n",
              "22    body_NNP   12.862985   8.230093e-38    Real > Fake\n",
              "85    body_VBN   11.695357   1.465465e-31    Real > Fake\n",
              "108   body_WDT  -11.324311   1.071719e-29    Fake > Real\n",
              "54     body_JJ   10.751283   6.210620e-27    Real > Fake\n",
              "75     body_UH   -9.507216   2.032885e-21    Fake > Real\n",
              "196    body_WP   -5.996585   2.027443e-09    Fake > Real\n",
              "26    body_VBG    5.369822   7.912837e-08    Real > Fake\n",
              "128    body_VB    4.063670   4.837322e-05    Real > Fake\n",
              "40   body_PRP$    3.434258   5.946099e-04    Real > Fake"
            ]
          },
          "metadata": {
            "tags": []
          },
          "execution_count": 44
        }
      ]
    },
    {
      "cell_type": "code",
      "metadata": {
        "colab": {
          "base_uri": "https://localhost:8080/",
          "height": 457
        },
        "id": "q1kM8tOAEDy5",
        "outputId": "9b44dde7-7221-45bc-db72-16570184ace5"
      },
      "source": [
        "df_title_pos"
      ],
      "execution_count": null,
      "outputs": [
        {
          "output_type": "execute_result",
          "data": {
            "text/html": [
              "<div>\n",
              "<style scoped>\n",
              "    .dataframe tbody tr th:only-of-type {\n",
              "        vertical-align: middle;\n",
              "    }\n",
              "\n",
              "    .dataframe tbody tr th {\n",
              "        vertical-align: top;\n",
              "    }\n",
              "\n",
              "    .dataframe thead th {\n",
              "        text-align: right;\n",
              "    }\n",
              "</style>\n",
              "<table border=\"1\" class=\"dataframe\">\n",
              "  <thead>\n",
              "    <tr style=\"text-align: right;\">\n",
              "      <th></th>\n",
              "      <th>feature</th>\n",
              "      <th>statistics</th>\n",
              "      <th>Pvalue</th>\n",
              "      <th>feature_differ</th>\n",
              "    </tr>\n",
              "  </thead>\n",
              "  <tbody>\n",
              "    <tr>\n",
              "      <th>181</th>\n",
              "      <td>title_VBG</td>\n",
              "      <td>-37.238940</td>\n",
              "      <td>7.756054e-300</td>\n",
              "      <td>Fake &gt; Real</td>\n",
              "    </tr>\n",
              "    <tr>\n",
              "      <th>196</th>\n",
              "      <td>title_VBD</td>\n",
              "      <td>-33.400883</td>\n",
              "      <td>3.295370e-242</td>\n",
              "      <td>Fake &gt; Real</td>\n",
              "    </tr>\n",
              "    <tr>\n",
              "      <th>232</th>\n",
              "      <td>title_RB</td>\n",
              "      <td>-28.761816</td>\n",
              "      <td>1.351181e-180</td>\n",
              "      <td>Fake &gt; Real</td>\n",
              "    </tr>\n",
              "    <tr>\n",
              "      <th>148</th>\n",
              "      <td>title_PRP</td>\n",
              "      <td>-24.615283</td>\n",
              "      <td>4.459437e-133</td>\n",
              "      <td>Fake &gt; Real</td>\n",
              "    </tr>\n",
              "    <tr>\n",
              "      <th>87</th>\n",
              "      <td>title_NN</td>\n",
              "      <td>-22.747591</td>\n",
              "      <td>5.016353e-114</td>\n",
              "      <td>Fake &gt; Real</td>\n",
              "    </tr>\n",
              "    <tr>\n",
              "      <th>84</th>\n",
              "      <td>title_VBN</td>\n",
              "      <td>-18.239686</td>\n",
              "      <td>4.106751e-74</td>\n",
              "      <td>Fake &gt; Real</td>\n",
              "    </tr>\n",
              "    <tr>\n",
              "      <th>193</th>\n",
              "      <td>title_NNS</td>\n",
              "      <td>11.325051</td>\n",
              "      <td>1.062719e-29</td>\n",
              "      <td>Real &gt; Fake</td>\n",
              "    </tr>\n",
              "    <tr>\n",
              "      <th>223</th>\n",
              "      <td>title_DT</td>\n",
              "      <td>-9.670649</td>\n",
              "      <td>4.182055e-22</td>\n",
              "      <td>Fake &gt; Real</td>\n",
              "    </tr>\n",
              "    <tr>\n",
              "      <th>119</th>\n",
              "      <td>title_VBZ</td>\n",
              "      <td>6.050560</td>\n",
              "      <td>1.452586e-09</td>\n",
              "      <td>Real &gt; Fake</td>\n",
              "    </tr>\n",
              "    <tr>\n",
              "      <th>77</th>\n",
              "      <td>title_VBP</td>\n",
              "      <td>-5.382373</td>\n",
              "      <td>7.380594e-08</td>\n",
              "      <td>Fake &gt; Real</td>\n",
              "    </tr>\n",
              "    <tr>\n",
              "      <th>167</th>\n",
              "      <td>title_NNP</td>\n",
              "      <td>4.725775</td>\n",
              "      <td>2.297976e-06</td>\n",
              "      <td>Real &gt; Fake</td>\n",
              "    </tr>\n",
              "    <tr>\n",
              "      <th>128</th>\n",
              "      <td>title_WP</td>\n",
              "      <td>-3.176805</td>\n",
              "      <td>1.489883e-03</td>\n",
              "      <td>Fake &gt; Real</td>\n",
              "    </tr>\n",
              "    <tr>\n",
              "      <th>172</th>\n",
              "      <td>title_VB</td>\n",
              "      <td>-3.151209</td>\n",
              "      <td>1.626820e-03</td>\n",
              "      <td>Fake &gt; Real</td>\n",
              "    </tr>\n",
              "  </tbody>\n",
              "</table>\n",
              "</div>"
            ],
            "text/plain": [
              "       feature  statistics         Pvalue feature_differ\n",
              "181  title_VBG  -37.238940  7.756054e-300    Fake > Real\n",
              "196  title_VBD  -33.400883  3.295370e-242    Fake > Real\n",
              "232   title_RB  -28.761816  1.351181e-180    Fake > Real\n",
              "148  title_PRP  -24.615283  4.459437e-133    Fake > Real\n",
              "87    title_NN  -22.747591  5.016353e-114    Fake > Real\n",
              "84   title_VBN  -18.239686   4.106751e-74    Fake > Real\n",
              "193  title_NNS   11.325051   1.062719e-29    Real > Fake\n",
              "223   title_DT   -9.670649   4.182055e-22    Fake > Real\n",
              "119  title_VBZ    6.050560   1.452586e-09    Real > Fake\n",
              "77   title_VBP   -5.382373   7.380594e-08    Fake > Real\n",
              "167  title_NNP    4.725775   2.297976e-06    Real > Fake\n",
              "128   title_WP   -3.176805   1.489883e-03    Fake > Real\n",
              "172   title_VB   -3.151209   1.626820e-03    Fake > Real"
            ]
          },
          "metadata": {
            "tags": []
          },
          "execution_count": 45
        }
      ]
    },
    {
      "cell_type": "markdown",
      "metadata": {
        "id": "sv92DMudIlgU"
      },
      "source": [
        "T-tests for large samples\n",
        "\n",
        "https://stats.stackexchange.com/questions/9573/t-test-for-non-normal-when-n50"
      ]
    },
    {
      "cell_type": "code",
      "metadata": {
        "id": "goBjmozpNFX3"
      },
      "source": [
        ""
      ],
      "execution_count": null,
      "outputs": []
    }
  ]
}